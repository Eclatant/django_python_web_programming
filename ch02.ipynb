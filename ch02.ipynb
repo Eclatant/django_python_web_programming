{
 "cells": [
  {
   "cell_type": "markdown",
   "metadata": {},
   "source": [
    "# ch02 파이썬 웹 표준 라이브러리"
   ]
  },
  {
   "cell_type": "markdown",
   "metadata": {},
   "source": [
    "### 예제 2-1 urlopen() 함수"
   ]
  },
  {
   "cell_type": "code",
   "execution_count": 1,
   "metadata": {
    "collapsed": true
   },
   "outputs": [],
   "source": [
    "from urllib2 import urlopen"
   ]
  },
  {
   "cell_type": "code",
   "execution_count": 7,
   "metadata": {
    "collapsed": false
   },
   "outputs": [],
   "source": [
    "f = urlopen('http://www.example.com')"
   ]
  },
  {
   "cell_type": "code",
   "execution_count": 8,
   "metadata": {
    "collapsed": false
   },
   "outputs": [
    {
     "name": "stdout",
     "output_type": "stream",
     "text": [
      "<!doctype html>\n",
      "<html>\n",
      "<head>\n",
      "    <title>Example Domain</title>\n",
      "\n",
      "    <meta charset=\"utf-8\" />\n",
      "    <meta http-equiv=\"Content-type\" content=\"text/html; charset=utf-8\" />\n",
      "    <meta name=\"viewport\" content=\"width=device-width, initial-scale=1\" />\n",
      "    <style type=\"text/css\">\n",
      "    body {\n",
      "        background-color: #f0f0f2;\n",
      "        margin: 0;\n",
      "        padding: 0;\n",
      "        font-family: \"Open Sans\", \"Helvetica Neue\", Helvetica, Arial, sans-serif;\n",
      "        \n",
      "    }\n",
      "    div {\n",
      "        width: 600px;\n",
      "        margin:\n"
     ]
    }
   ],
   "source": [
    "print f.read(500)"
   ]
  },
  {
   "cell_type": "markdown",
   "metadata": {},
   "source": [
    "## 예제 2-2 urlopen() 함수 - POST 방식 요청"
   ]
  },
  {
   "cell_type": "code",
   "execution_count": 9,
   "metadata": {
    "collapsed": true
   },
   "outputs": [],
   "source": [
    "from urllib2 import urlopen"
   ]
  },
  {
   "cell_type": "code",
   "execution_count": 10,
   "metadata": {
    "collapsed": true
   },
   "outputs": [],
   "source": [
    "data = 'query=python'"
   ]
  },
  {
   "cell_type": "code",
   "execution_count": 11,
   "metadata": {
    "collapsed": true
   },
   "outputs": [],
   "source": [
    "f = urlopen('http://www.example.com', data)"
   ]
  },
  {
   "cell_type": "code",
   "execution_count": 12,
   "metadata": {
    "collapsed": false,
    "scrolled": true
   },
   "outputs": [
    {
     "name": "stdout",
     "output_type": "stream",
     "text": [
      "<!doctype html>\n",
      "<html>\n",
      "<head>\n",
      "    <title>Example Domain</title>\n",
      "\n",
      "    <meta charset=\"utf-8\" />\n",
      "    <meta http-equiv=\"Content-type\" content=\"text/html; charset=utf-8\" />\n",
      "    <meta name=\"viewport\" content=\"width=device-width, initial-scale=1\" />\n",
      "    <style type=\"text/css\">\n",
      "    body {\n",
      "        background\n"
     ]
    }
   ],
   "source": [
    "print f.read(300)"
   ]
  },
  {
   "cell_type": "markdown",
   "metadata": {},
   "source": [
    "### 예제 2-3 urlopen() 함수 - Request 클래스로 요청 헤더 지정"
   ]
  },
  {
   "cell_type": "code",
   "execution_count": 13,
   "metadata": {
    "collapsed": false
   },
   "outputs": [
    {
     "name": "stdout",
     "output_type": "stream",
     "text": [
      "<!doctype html>\n",
      "<html>\n",
      "<head>\n",
      "    <title>Example Domain</title>\n",
      "\n",
      "    <meta charset=\"utf-8\" />\n",
      "    <meta http-equiv=\"Content-type\" content=\"text/html; charset=utf-8\" />\n",
      "    <meta name=\"viewport\" content=\"width=device-width, initial-scale=1\" />\n",
      "    <style type=\"text/css\">\n",
      "    body {\n",
      "        background\n"
     ]
    }
   ],
   "source": [
    "import urllib2\n",
    "req = urllib2.Request('http://www.example.com')\n",
    "req.add_header('Content-Type', 'text/plain')\n",
    "req.add_data('query=python')\n",
    "f = urllib2.urlopen(req)\n",
    "print f.read(300)"
   ]
  },
  {
   "cell_type": "markdown",
   "metadata": {},
   "source": [
    "### 2.2.3 urllib2 모듈 예제"
   ]
  },
  {
   "cell_type": "code",
   "execution_count": 14,
   "metadata": {
    "collapsed": false
   },
   "outputs": [
    {
     "name": "stdout",
     "output_type": "stream",
     "text": [
      "\n",
      ">>>>>>> Fetch Images from http://www.google.co.kr\n",
      "/images/icons/product/chrome-48.png\n",
      "/logos/doodles/2015/155th-anniversary-of-the-pony-express-5959391580782592.2-hp.jpg\n",
      "/textinputassistant/tia.png\n"
     ]
    }
   ],
   "source": [
    "from urllib2 import urlopen\n",
    "from HTMLParser import HTMLParser\n",
    "\n",
    "class ImageParser(HTMLParser):\n",
    "    def handle_starttag(self, tag, attrs):\n",
    "        if tag != 'img':\n",
    "            return\n",
    "        if not hasattr(self, 'result'):\n",
    "            self.result = []\n",
    "        for name, value in attrs:\n",
    "            if name == 'src':\n",
    "                self.result.append(value)\n",
    "def parseImage(data):\n",
    "    parser = ImageParser()\n",
    "    parser.feed(data)\n",
    "    dataSet = set(x for x in parser.result)\n",
    "    print '\\n'.join(sorted(dataSet))\n",
    "\n",
    "def main():\n",
    "    url = 'http://www.google.co.kr'\n",
    "    \n",
    "    f = urlopen(url)\n",
    "    charset = f.info().getparam('charset')\n",
    "    data = f.read().decode(charset)\n",
    "    f.close()\n",
    "    \n",
    "    print '\\n>>>>>>> Fetch Images from', url\n",
    "    parseImage(data)\n",
    "    \n",
    "main()"
   ]
  },
  {
   "cell_type": "markdown",
   "metadata": {},
   "source": [
    "### 2.2.4 httplib 모듈"
   ]
  },
  {
   "cell_type": "markdown",
   "metadata": {},
   "source": [
    "### 예제 2-8 httplib 모듈 사용 - GET 방식 요청"
   ]
  },
  {
   "cell_type": "code",
   "execution_count": 15,
   "metadata": {
    "collapsed": true
   },
   "outputs": [],
   "source": [
    "import httplib"
   ]
  },
  {
   "cell_type": "code",
   "execution_count": 28,
   "metadata": {
    "collapsed": true
   },
   "outputs": [],
   "source": [
    "conn = httplib.HTTPConnection('www.example.com')"
   ]
  },
  {
   "cell_type": "code",
   "execution_count": 29,
   "metadata": {
    "collapsed": true
   },
   "outputs": [],
   "source": [
    "conn.request('GET', '/index.html')"
   ]
  },
  {
   "cell_type": "code",
   "execution_count": 30,
   "metadata": {
    "collapsed": true
   },
   "outputs": [],
   "source": [
    "r1 = conn.getresponse()"
   ]
  },
  {
   "cell_type": "code",
   "execution_count": 31,
   "metadata": {
    "collapsed": false
   },
   "outputs": [
    {
     "data": {
      "text/plain": [
       "(200, 'OK')"
      ]
     },
     "execution_count": 31,
     "metadata": {},
     "output_type": "execute_result"
    }
   ],
   "source": [
    "r1.status, r1.reason"
   ]
  },
  {
   "cell_type": "code",
   "execution_count": 32,
   "metadata": {
    "collapsed": true
   },
   "outputs": [],
   "source": [
    "data1 = r1.read()"
   ]
  },
  {
   "cell_type": "code",
   "execution_count": 33,
   "metadata": {
    "collapsed": false
   },
   "outputs": [
    {
     "name": "stdout",
     "output_type": "stream",
     "text": [
      "<!doctype html>\n",
      "<html>\n",
      "<head>\n",
      "    <title>Example Domain</title>\n",
      "\n",
      "    <meta charset=\"utf-8\" />\n",
      "    <meta http-equiv=\"Content-type\" content=\"text/html; charset=utf-8\" />\n",
      "    <meta name=\"viewport\" content=\"width=device-width, initial-scale=1\" />\n",
      "    <style type=\"text/css\">\n",
      "    body {\n",
      "        background-color: #f0f0f2;\n",
      "        margin: 0;\n",
      "        padding: 0;\n",
      "        font-family: \"Open Sans\", \"Helvetica Neue\", Helvetica, Arial, sans-serif;\n",
      "        \n",
      "    }\n",
      "    div {\n",
      "        width: 600px;\n",
      "        margin: 5em auto;\n",
      "        padding: 50px;\n",
      "        background-color: #fff;\n",
      "        border-radius: 1em;\n",
      "    }\n",
      "    a:link, a:visited {\n",
      "        color: #38488f;\n",
      "        text-decoration: none;\n",
      "    }\n",
      "    @media (max-width: 700px) {\n",
      "        body {\n",
      "            background-color: #fff;\n",
      "        }\n",
      "        div {\n",
      "            width: auto;\n",
      "            margin: 0 auto;\n",
      "            border-radius: 0;\n",
      "            padding: 1em;\n",
      "        }\n",
      "    }\n",
      "    </style>    \n",
      "</head>\n",
      "\n",
      "<body>\n",
      "<div>\n",
      "    <h1>Example Domain</h1>\n",
      "    <p>This domain is established to be used for illustrative examples in documents. You may use this\n",
      "    domain in examples without prior coordination or asking for permission.</p>\n",
      "    <p><a href=\"http://www.iana.org/domains/example\">More information...</a></p>\n",
      "</div>\n",
      "</body>\n",
      "</html>\n",
      "\n"
     ]
    }
   ],
   "source": [
    "print data1"
   ]
  },
  {
   "cell_type": "code",
   "execution_count": 34,
   "metadata": {
    "collapsed": false
   },
   "outputs": [],
   "source": [
    "conn.request('GET', '/parrot.spam')"
   ]
  },
  {
   "cell_type": "code",
   "execution_count": 35,
   "metadata": {
    "collapsed": false
   },
   "outputs": [],
   "source": [
    "r2 = conn.getresponse()"
   ]
  },
  {
   "cell_type": "code",
   "execution_count": 36,
   "metadata": {
    "collapsed": false
   },
   "outputs": [
    {
     "name": "stdout",
     "output_type": "stream",
     "text": [
      "404 Not Found\n"
     ]
    }
   ],
   "source": [
    "print r2.status, r2.reason"
   ]
  },
  {
   "cell_type": "code",
   "execution_count": 37,
   "metadata": {
    "collapsed": false
   },
   "outputs": [
    {
     "name": "stdout",
     "output_type": "stream",
     "text": [
      "<!doctype html>\n",
      "<html>\n",
      "<head>\n",
      "    <title>Example Domain</title>\n",
      "\n",
      "    <meta charset=\"utf-8\" />\n",
      "    <meta http-equiv=\"Content-type\" content=\"text/html; charset=utf-8\" />\n",
      "    <meta name=\"viewport\" content=\"width=device-width, initial-scale=1\" />\n",
      "    <style type=\"text/css\">\n",
      "    body {\n",
      "        background-color: #f0f0f2;\n",
      "        margin: 0;\n",
      "        padding: 0;\n",
      "        font-family: \"Open Sans\", \"Helvetica Neue\", Helvetica, Arial, sans-serif;\n",
      "        \n",
      "    }\n",
      "    div {\n",
      "        width: 600px;\n",
      "        margin: 5em auto;\n",
      "        padding: 50px;\n",
      "        background-color: #fff;\n",
      "        border-radius: 1em;\n",
      "    }\n",
      "    a:link, a:visited {\n",
      "        color: #38488f;\n",
      "        text-decoration: none;\n",
      "    }\n",
      "    @media (max-width: 700px) {\n",
      "        body {\n",
      "            background-color: #fff;\n",
      "        }\n",
      "        div {\n",
      "            width: auto;\n",
      "            margin: 0 auto;\n",
      "            border-radius: 0;\n",
      "            padding: 1em;\n",
      "        }\n",
      "    }\n",
      "    </style>    \n",
      "</head>\n",
      "\n",
      "<body>\n",
      "<div>\n",
      "    <h1>Example Domain</h1>\n",
      "    <p>This domain is established to be used for illustrative examples in documents. You may use this\n",
      "    domain in examples without prior coordination or asking for permission.</p>\n",
      "    <p><a href=\"http://www.iana.org/domains/example\">More information...</a></p>\n",
      "</div>\n",
      "</body>\n",
      "</html>\n",
      "\n"
     ]
    }
   ],
   "source": [
    "data2 = r2.read()\n",
    "print data2"
   ]
  },
  {
   "cell_type": "code",
   "execution_count": 38,
   "metadata": {
    "collapsed": true
   },
   "outputs": [],
   "source": [
    "conn.close()"
   ]
  },
  {
   "cell_type": "markdown",
   "metadata": {},
   "source": [
    "### 예제 2-9 httplib 모듈 사용 - HEAD 방식 요청"
   ]
  },
  {
   "cell_type": "code",
   "execution_count": 39,
   "metadata": {
    "collapsed": false
   },
   "outputs": [
    {
     "name": "stdout",
     "output_type": "stream",
     "text": [
      "200 OK\n"
     ]
    }
   ],
   "source": [
    "import httplib\n",
    "conn = httplib.HTTPConnection('www.example.com')\n",
    "conn.request('HEAD', '/index.html')\n",
    "res = conn.getresponse()\n",
    "print res.status, res.reason"
   ]
  },
  {
   "cell_type": "code",
   "execution_count": 40,
   "metadata": {
    "collapsed": false
   },
   "outputs": [
    {
     "name": "stdout",
     "output_type": "stream",
     "text": [
      "0\n"
     ]
    }
   ],
   "source": [
    "data = res.read()\n",
    "print len(data)"
   ]
  },
  {
   "cell_type": "code",
   "execution_count": 41,
   "metadata": {
    "collapsed": false
   },
   "outputs": [
    {
     "data": {
      "text/plain": [
       "True"
      ]
     },
     "execution_count": 41,
     "metadata": {},
     "output_type": "execute_result"
    }
   ],
   "source": [
    "data == ''"
   ]
  },
  {
   "cell_type": "markdown",
   "metadata": {},
   "source": [
    "### 예제 2-10 httplib 모듈 사용 - POST 방식 요청"
   ]
  },
  {
   "cell_type": "code",
   "execution_count": 42,
   "metadata": {
    "collapsed": true
   },
   "outputs": [],
   "source": [
    "import httplib, urllib"
   ]
  },
  {
   "cell_type": "code",
   "execution_count": 43,
   "metadata": {
    "collapsed": true
   },
   "outputs": [],
   "source": [
    "params = urllib.urlencode({'@number': 12524, \n",
    "                           '@type': 'issue', \n",
    "                           '@action': 'show'})\n",
    "headers = {'Content-type': 'application/x-www-form-urlencoded',\n",
    "           'Accept': 'text/plain'}"
   ]
  },
  {
   "cell_type": "code",
   "execution_count": 44,
   "metadata": {
    "collapsed": true
   },
   "outputs": [],
   "source": [
    "conn = httplib.HTTPConnection('bugs.python.org')"
   ]
  },
  {
   "cell_type": "code",
   "execution_count": 45,
   "metadata": {
    "collapsed": true
   },
   "outputs": [],
   "source": [
    "conn.request('POST', '', params, headers)"
   ]
  },
  {
   "cell_type": "code",
   "execution_count": 46,
   "metadata": {
    "collapsed": true
   },
   "outputs": [],
   "source": [
    "response = conn.getresponse()"
   ]
  },
  {
   "cell_type": "code",
   "execution_count": 47,
   "metadata": {
    "collapsed": false
   },
   "outputs": [
    {
     "name": "stdout",
     "output_type": "stream",
     "text": [
      "302 Found\n"
     ]
    }
   ],
   "source": [
    "print response.status, response.reason"
   ]
  },
  {
   "cell_type": "code",
   "execution_count": 48,
   "metadata": {
    "collapsed": true
   },
   "outputs": [],
   "source": [
    "data = response.read()"
   ]
  },
  {
   "cell_type": "code",
   "execution_count": 49,
   "metadata": {
    "collapsed": false
   },
   "outputs": [
    {
     "name": "stdout",
     "output_type": "stream",
     "text": [
      "Redirecting to <a href=\"http://bugs.python.org/issue12524\">http://bugs.python.org/issue12524</a>\n"
     ]
    }
   ],
   "source": [
    "print data"
   ]
  },
  {
   "cell_type": "code",
   "execution_count": 50,
   "metadata": {
    "collapsed": true
   },
   "outputs": [],
   "source": [
    "conn.close()"
   ]
  },
  {
   "cell_type": "markdown",
   "metadata": {},
   "source": [
    "### 예제 2-11 httplib 모듈 사용 - PUT 방식 요청"
   ]
  },
  {
   "cell_type": "code",
   "execution_count": 51,
   "metadata": {
    "collapsed": false
   },
   "outputs": [
    {
     "name": "stdout",
     "output_type": "stream",
     "text": [
      "404 Not Found\n"
     ]
    }
   ],
   "source": [
    "import httplib\n",
    "BODY = '***filecontents***'\n",
    "conn = httplib.HTTPConnection('localhost', 8888)\n",
    "conn.request('PUT', '/file', BODY)\n",
    "response = conn.getresponse()\n",
    "print response.status, response.reason"
   ]
  },
  {
   "cell_type": "markdown",
   "metadata": {},
   "source": [
    "### 2.2.5 httplib 모듈 예제"
   ]
  },
  {
   "cell_type": "code",
   "execution_count": 52,
   "metadata": {
    "collapsed": false
   },
   "outputs": [
    {
     "name": "stdout",
     "output_type": "stream",
     "text": [
      "\n",
      ">>>>>>> Download Images from www.google.co.kr\n",
      "Downloading... http://www.google.co.kr/images/icons/product/chrome-48.png\n",
      "Downloading... http://www.google.co.kr/logos/doodles/2015/155th-anniversary-of-the-pony-express-5959391580782592.2-hp.jpg\n",
      "Downloading... http://www.google.co.kr/textinputassistant/tia.png\n"
     ]
    }
   ],
   "source": [
    "import httplib\n",
    "from urlparse import urljoin, urlunparse\n",
    "from urllib import urlretrieve\n",
    "from HTMLParser import HTMLParser\n",
    "import os\n",
    "\n",
    "class ImageParser(HTMLParser):\n",
    "    def handle_starttag(self, tag, attrs):\n",
    "        if tag != 'img':\n",
    "            return\n",
    "        if not hasattr(self, 'result'):\n",
    "            self.result = []\n",
    "        for name, value in attrs:\n",
    "            if name == 'src':\n",
    "                self.result.append(value)\n",
    "                \n",
    "def downloadImage(srcUrl, data):\n",
    "    if not os.path.exists('DOWNLOAD'):\n",
    "        os.makedirs('DOWNLOAD')\n",
    "    \n",
    "    parser = ImageParser()\n",
    "    parser.feed(data)\n",
    "    resultSet = set(x for x in parser.result)\n",
    "    \n",
    "    for x in sorted(resultSet):\n",
    "        src = urljoin(srcUrl, x)\n",
    "        basename = os.path.basename(src)\n",
    "        targetFile = os.path.join('DOWNLOAD', basename)\n",
    "        \n",
    "        print 'Downloading...', src\n",
    "        urlretrieve(src, targetFile)\n",
    "        \n",
    "def main():\n",
    "    host = 'www.google.co.kr'\n",
    "    conn = httplib.HTTPConnection(host)\n",
    "    conn.request('GET', '')\n",
    "    resp = conn.getresponse()\n",
    "    \n",
    "    charset = resp.msg.getparam('charset')\n",
    "    data = resp.read().decode(charset)\n",
    "    conn.close()\n",
    "    \n",
    "    print '\\n>>>>>>> Download Images from', host\n",
    "    url = urlunparse(('http', host, '', '', '', ''))\n",
    "    downloadImage(url, data)\n",
    "    \n",
    "main()"
   ]
  },
  {
   "cell_type": "code",
   "execution_count": 54,
   "metadata": {
    "collapsed": false
   },
   "outputs": [
    {
     "name": "stdout",
     "output_type": "stream",
     "text": [
      "total 160\r\n",
      "-rw-r--r--  1 re4lfl0w  staff  72178  4 14 06:12 155th-anniversary-of-the-pony-express-5959391580782592.2-hp.jpg\r\n",
      "-rw-r--r--  1 re4lfl0w  staff   1834  4 14 06:12 chrome-48.png\r\n",
      "-rw-r--r--  1 re4lfl0w  staff    387  4 14 06:12 tia.png\r\n"
     ]
    }
   ],
   "source": [
    "!ls -l DOWNLOAD/"
   ]
  },
  {
   "cell_type": "code",
   "execution_count": 55,
   "metadata": {
    "collapsed": true
   },
   "outputs": [],
   "source": [
    "!open DOWNLOAD/chrome-48.png"
   ]
  },
  {
   "cell_type": "code",
   "execution_count": 58,
   "metadata": {
    "collapsed": true
   },
   "outputs": [],
   "source": [
    "!open DOWNLOAD/tia.png"
   ]
  },
  {
   "cell_type": "code",
   "execution_count": 57,
   "metadata": {
    "collapsed": true
   },
   "outputs": [],
   "source": [
    "!open DOWNLOAD/155th-anniversary-of-the-pony-express-5959391580782592.2-hp.jpg"
   ]
  },
  {
   "cell_type": "markdown",
   "metadata": {},
   "source": [
    "## 2.3 웹 서버 라이브러리"
   ]
  },
  {
   "cell_type": "code",
   "execution_count": 60,
   "metadata": {
    "collapsed": false
   },
   "outputs": [
    {
     "name": "stdout",
     "output_type": "stream",
     "text": [
      "Started WebServer on port 8888...\n",
      "Press ^C to quit WebServer\n"
     ]
    },
    {
     "ename": "KeyboardInterrupt",
     "evalue": "",
     "output_type": "error",
     "traceback": [
      "\u001b[0;31m---------------------------------------------------------------------------\u001b[0m",
      "\u001b[0;31mKeyboardInterrupt\u001b[0m                         Traceback (most recent call last)",
      "\u001b[0;32m<ipython-input-60-130adc78dd87>\u001b[0m in \u001b[0;36m<module>\u001b[0;34m()\u001b[0m\n\u001b[1;32m      9\u001b[0m     \u001b[0;32mprint\u001b[0m \u001b[0;34m'Started WebServer on port 8888...'\u001b[0m\u001b[0;34m\u001b[0m\u001b[0m\n\u001b[1;32m     10\u001b[0m     \u001b[0;32mprint\u001b[0m \u001b[0;34m'Press ^C to quit WebServer'\u001b[0m\u001b[0;34m\u001b[0m\u001b[0m\n\u001b[0;32m---> 11\u001b[0;31m     \u001b[0mserver\u001b[0m\u001b[0;34m.\u001b[0m\u001b[0mserve_forever\u001b[0m\u001b[0;34m(\u001b[0m\u001b[0;34m)\u001b[0m\u001b[0;34m\u001b[0m\u001b[0m\n\u001b[0m",
      "\u001b[0;32m/System/Library/Frameworks/Python.framework/Versions/2.7/lib/python2.7/SocketServer.pyc\u001b[0m in \u001b[0;36mserve_forever\u001b[0;34m(self, poll_interval)\u001b[0m\n\u001b[1;32m    234\u001b[0m                 \u001b[0;31m# shutdown request and wastes cpu at all other times.\u001b[0m\u001b[0;34m\u001b[0m\u001b[0;34m\u001b[0m\u001b[0m\n\u001b[1;32m    235\u001b[0m                 r, w, e = _eintr_retry(select.select, [self], [], [],\n\u001b[0;32m--> 236\u001b[0;31m                                        poll_interval)\n\u001b[0m\u001b[1;32m    237\u001b[0m                 \u001b[0;32mif\u001b[0m \u001b[0mself\u001b[0m \u001b[0;32min\u001b[0m \u001b[0mr\u001b[0m\u001b[0;34m:\u001b[0m\u001b[0;34m\u001b[0m\u001b[0m\n\u001b[1;32m    238\u001b[0m                     \u001b[0mself\u001b[0m\u001b[0;34m.\u001b[0m\u001b[0m_handle_request_noblock\u001b[0m\u001b[0;34m(\u001b[0m\u001b[0;34m)\u001b[0m\u001b[0;34m\u001b[0m\u001b[0m\n",
      "\u001b[0;32m/System/Library/Frameworks/Python.framework/Versions/2.7/lib/python2.7/SocketServer.pyc\u001b[0m in \u001b[0;36m_eintr_retry\u001b[0;34m(func, *args)\u001b[0m\n\u001b[1;32m    153\u001b[0m     \u001b[0;32mwhile\u001b[0m \u001b[0mTrue\u001b[0m\u001b[0;34m:\u001b[0m\u001b[0;34m\u001b[0m\u001b[0m\n\u001b[1;32m    154\u001b[0m         \u001b[0;32mtry\u001b[0m\u001b[0;34m:\u001b[0m\u001b[0;34m\u001b[0m\u001b[0m\n\u001b[0;32m--> 155\u001b[0;31m             \u001b[0;32mreturn\u001b[0m \u001b[0mfunc\u001b[0m\u001b[0;34m(\u001b[0m\u001b[0;34m*\u001b[0m\u001b[0margs\u001b[0m\u001b[0;34m)\u001b[0m\u001b[0;34m\u001b[0m\u001b[0m\n\u001b[0m\u001b[1;32m    156\u001b[0m         \u001b[0;32mexcept\u001b[0m \u001b[0;34m(\u001b[0m\u001b[0mOSError\u001b[0m\u001b[0;34m,\u001b[0m \u001b[0mselect\u001b[0m\u001b[0;34m.\u001b[0m\u001b[0merror\u001b[0m\u001b[0;34m)\u001b[0m \u001b[0;32mas\u001b[0m \u001b[0me\u001b[0m\u001b[0;34m:\u001b[0m\u001b[0;34m\u001b[0m\u001b[0m\n\u001b[1;32m    157\u001b[0m             \u001b[0;32mif\u001b[0m \u001b[0me\u001b[0m\u001b[0;34m.\u001b[0m\u001b[0margs\u001b[0m\u001b[0;34m[\u001b[0m\u001b[0;36m0\u001b[0m\u001b[0;34m]\u001b[0m \u001b[0;34m!=\u001b[0m \u001b[0merrno\u001b[0m\u001b[0;34m.\u001b[0m\u001b[0mEINTR\u001b[0m\u001b[0;34m:\u001b[0m\u001b[0;34m\u001b[0m\u001b[0m\n",
      "\u001b[0;31mKeyboardInterrupt\u001b[0m: "
     ]
    }
   ],
   "source": [
    "from BaseHTTPServer import HTTPServer, BaseHTTPRequestHandler\n",
    "\n",
    "class MyHandler(BaseHTTPRequestHandler):\n",
    "    def do_GET(self):\n",
    "        self.wfile.write('Hello World')\n",
    "        \n",
    "if __name__ == '__main__':\n",
    "    server = HTTPServer(('', 8000), MyHandler)\n",
    "    print 'Started WebServer on port 8888...'\n",
    "    print 'Press ^C to quit WebServer'\n",
    "    server.serve_forever()"
   ]
  },
  {
   "cell_type": "markdown",
   "metadata": {},
   "source": [
    "#### 표 2-4 웹 서버용 파이썬 라이브러리 모듈\n",
    "\n",
    "모듈명 | 모듈에서 정의하고 있는 내용 | 처리 기능\n",
    "--- | --- | ---\n",
    "BaseHTTPServer | - 기반 서버 클래스용으로, HTTPServer 정의<br/>- 핸들러 클래스용으로, BaseHTTPRequestHandler 정의<br/>- 테스트용 웹 서버를 실행하는 함수, test() 정의 | 기반클래스로, HTTP 프로토콜 처리\n",
    "SimpleHTTPServer | - 기반 서버 클래스인 HTTPServer를 임포트하여 사용<br/>- 핸들러 클래스용으로, SimpleHTTPRequestHandler 정의<br/>- 테스트용 웹 서버를 실행하는 함수, test() 정의 | GET과 HEAD 메소드 처리 가능\n",
    "CGIHTTPServer | - 기반 서버 클래스인 HTTPServer를 임포트하여 사용<br/>- 핸들러 클래스용으로, CGIHTTPRequestHandler 정의<br/>- 테스트용 웹 서버를 실행하는 함수, test() 정의 | POST와 CGI 처리 가능"
   ]
  },
  {
   "cell_type": "markdown",
   "metadata": {},
   "source": [
    "### 2.3.2 BaseHTTPServer 모듈\n",
    "\n",
    "- 직접 MyHandler 라는 자신의 핸들러를 코딩하였음\n",
    "- do_GET() 및 do_HEAD() 메소드가 미리 정의되어 있음\n",
    "- POST 등 그 이외의 HTTP 메소드는 처리할 수 없음"
   ]
  },
  {
   "cell_type": "code",
   "execution_count": 62,
   "metadata": {
    "collapsed": false
   },
   "outputs": [
    {
     "name": "stdout",
     "output_type": "stream",
     "text": [
      "Serving HTTP on 0.0.0.0 port 8001 ...\n",
      "127.0.0.1 - - [15/Apr/2015 23:20:55] \"GET / HTTP/1.1\" 200 -\n",
      "127.0.0.1 - - [15/Apr/2015 23:20:56] code 404, message File not found\n",
      "127.0.0.1 - - [15/Apr/2015 23:20:56] \"GET /favicon.ico HTTP/1.1\" 404 -\n",
      "^CTraceback (most recent call last):\n",
      "  File \"/System/Library/Frameworks/Python.framework/Versions/2.7/lib/python2.7/runpy.py\", line 162, in _run_module_as_main\n",
      "    \"__main__\", fname, loader, pkg_name)\n",
      "  File \"/System/Library/Frameworks/Python.framework/Versions/2.7/lib/python2.7/runpy.py\", line 72, in _run_code\n",
      "    exec code in run_globals\n",
      "  File \"/System/Library/Frameworks/Python.framework/Versions/2.7/lib/python2.7/SimpleHTTPServer.py\", line 224, in <module>\n",
      "    test()\n",
      "  File \"/System/Library/Frameworks/Python.framework/Versions/2.7/lib/python2.7/SimpleHTTPServer.py\", line 220, in test\n",
      "    BaseHTTPServer.test(HandlerClass, ServerClass)\n",
      "  File \"/System/Library/Frameworks/Python.framework/Versions/2.7/lib/python2.7/BaseHTTPServer.py\", line 599, in test\n",
      "    httpd.serve_forever()\n",
      "  File \"/System/Library/Frameworks/Python.framework/Versions/2.7/lib/python2.7/SocketServer.py\", line 236, in serve_forever\n",
      "    poll_interval)\n",
      "  File \"/System/Library/Frameworks/Python.framework/Versions/2.7/lib/python2.7/SocketServer.py\", line 155, in _eintr_retry\n",
      "    return func(*args)\n",
      "KeyboardInterrupt\n"
     ]
    }
   ],
   "source": [
    "!python -m SimpleHTTPServer 8001"
   ]
  },
  {
   "cell_type": "code",
   "execution_count": 63,
   "metadata": {
    "collapsed": false
   },
   "outputs": [
    {
     "name": "stdout",
     "output_type": "stream",
     "text": [
      "Serving HTTP on 0.0.0.0 port 8001 ...\n",
      "127.0.0.1 - - [15/Apr/2015 23:21:32] \"GET / HTTP/1.1\" 200 -\n",
      "^C----------------------------------------\n",
      "Exception happened during processing of request from ('127.0.0.1', 56218)\n",
      "Traceback (most recent call last):\n",
      "  File \"/System/Library/Frameworks/Python.framework/Versions/2.7/lib/python2.7/SocketServer.py\", line 295, in _handle_request_noblock\n",
      "    self.process_request(request, client_address)\n",
      "  File \"/System/Library/Frameworks/Python.framework/Versions/2.7/lib/python2.7/SocketServer.py\", line 321, in process_request\n",
      "    self.finish_request(request, client_address)\n",
      "  File \"/System/Library/Frameworks/Python.framework/Versions/2.7/lib/python2.7/SocketServer.py\", line 334, in finish_request\n",
      "    self.RequestHandlerClass(request, client_address, self)\n",
      "  File \"/System/Library/Frameworks/Python.framework/Versions/2.7/lib/python2.7/SocketServer.py\", line 649, in __init__\n",
      "    self.handle()\n",
      "  File \"/System/Library/Frameworks/Python.framework/Versions/2.7/lib/python2.7/BaseHTTPServer.py\", line 340, in handle\n",
      "    self.handle_one_request()\n",
      "  File \"/System/Library/Frameworks/Python.framework/Versions/2.7/lib/python2.7/BaseHTTPServer.py\", line 310, in handle_one_request\n",
      "    self.raw_requestline = self.rfile.readline(65537)\n",
      "  File \"/System/Library/Frameworks/Python.framework/Versions/2.7/lib/python2.7/socket.py\", line 476, in readline\n",
      "    data = self._sock.recv(self._rbufsize)\n",
      "KeyboardInterrupt\n",
      "----------------------------------------\n"
     ]
    }
   ],
   "source": [
    "!python -c 'import SimpleHTTPServer; SimpleHTTPServer.test()' 8001"
   ]
  },
  {
   "cell_type": "markdown",
   "metadata": {},
   "source": [
    "- 디렉토리 리스트가 나오는 것은 SimpleHTTPRequestHandler의 do_GET() 메소드가 그렇게 구현되어 있기 때문"
   ]
  },
  {
   "cell_type": "markdown",
   "metadata": {},
   "source": [
    "### 2.3.4 CGIHTTPServer 모듈\n",
    "\n",
    "- do_POST() 메소드가 정의되어 있음\n",
    "- 다만 CGIHTTPServer 클래스의 do_POST() 메소드는 CGI 처리 기능만 구현되어 있어서 모든 POST 방식을 처리할 수 있는 것은 아님"
   ]
  },
  {
   "cell_type": "code",
   "execution_count": 64,
   "metadata": {
    "collapsed": false
   },
   "outputs": [
    {
     "name": "stdout",
     "output_type": "stream",
     "text": [
      "Serving HTTP on 0.0.0.0 port 8001 ...\n",
      "127.0.0.1 - - [15/Apr/2015 23:23:47] \"GET / HTTP/1.1\" 200 -\n",
      "^CTraceback (most recent call last):\n",
      "  File \"/System/Library/Frameworks/Python.framework/Versions/2.7/lib/python2.7/runpy.py\", line 162, in _run_module_as_main\n",
      "    \"__main__\", fname, loader, pkg_name)\n",
      "  File \"/System/Library/Frameworks/Python.framework/Versions/2.7/lib/python2.7/runpy.py\", line 72, in _run_code\n",
      "    exec code in run_globals\n",
      "  File \"/System/Library/Frameworks/Python.framework/Versions/2.7/lib/python2.7/CGIHTTPServer.py\", line 377, in <module>\n",
      "    test()\n",
      "  File \"/System/Library/Frameworks/Python.framework/Versions/2.7/lib/python2.7/CGIHTTPServer.py\", line 373, in test\n",
      "    SimpleHTTPServer.test(HandlerClass, ServerClass)\n",
      "  File \"/System/Library/Frameworks/Python.framework/Versions/2.7/lib/python2.7/SimpleHTTPServer.py\", line 220, in test\n",
      "    BaseHTTPServer.test(HandlerClass, ServerClass)\n",
      "  File \"/System/Library/Frameworks/Python.framework/Versions/2.7/lib/python2.7/BaseHTTPServer.py\", line 599, in test\n",
      "    httpd.serve_forever()\n",
      "  File \"/System/Library/Frameworks/Python.framework/Versions/2.7/lib/python2.7/SocketServer.py\", line 236, in serve_forever\n",
      "    poll_interval)\n",
      "  File \"/System/Library/Frameworks/Python.framework/Versions/2.7/lib/python2.7/SocketServer.py\", line 155, in _eintr_retry\n",
      "    return func(*args)\n",
      "KeyboardInterrupt\n"
     ]
    }
   ],
   "source": [
    "!python -m CGIHTTPServer 8001"
   ]
  },
  {
   "cell_type": "markdown",
   "metadata": {},
   "source": [
    "### 예제 2-14 CGIHTTPServer 시험용 클라이언트 - cgi_client.py"
   ]
  },
  {
   "cell_type": "code",
   "execution_count": 72,
   "metadata": {
    "collapsed": false
   },
   "outputs": [
    {
     "name": "stdout",
     "output_type": "stream",
     "text": [
      "Welcome, CGI Scripts\n",
      "language is python\n",
      "framework is django\n",
      "email is kim@naver.com\n",
      "\n"
     ]
    }
   ],
   "source": [
    "import urllib2\n",
    "from urllib import urlencode\n",
    "\n",
    "url = 'http://localhost:8001/cgi-bin/script.py'\n",
    "data = {\n",
    "    'language' : 'python',\n",
    "    'framework': 'django',\n",
    "    'email': 'kim@naver.com'\n",
    "    }\n",
    "encData = urlencode(data)\n",
    "\n",
    "f = urllib2.urlopen(url, encData) # POST\n",
    "print f.read()"
   ]
  },
  {
   "cell_type": "markdown",
   "metadata": {},
   "source": [
    "### 2.3.5 xxxHTTPServer 모듈간의 관계\n",
    "\n",
    "- 책에 그림으로 잘 설명되어 있음\n",
    "- 상속 관계."
   ]
  },
  {
   "cell_type": "markdown",
   "metadata": {},
   "source": [
    "## 2.4 CGI/WSGI 라이브러리\n",
    "\n",
    "- WSGI(Web Server Gateway Interface) 규격\n",
    "- 전통적인 웹 CGI 기술의 단점을 개선하고 파이썬 언어에 맞게 재구성한 것\n",
    "- 주의할 점은 CGI 기술은 이미 사라진 기술이지만, cgi 모듈의 라이브러리는 WSGI 기술에 여전히 사용되고 있다는 것\n"
   ]
  },
  {
   "cell_type": "markdown",
   "metadata": {},
   "source": [
    "### 2.4.1 CGI 관련 모듈\n",
    "\n",
    "- 웹 서버와 애플리케이션\n",
    "- Static Request: 웹서버에 있는 파일을 있는 그대로 요청\n",
    "- Dynamic Request: 현재의 시간을 요청하는 것처럼 동일한 요청이라도 시점에 따라 응답 내용이 달라짐\n",
    "- 웹 서버에는 동적 요청을 애플리케이션에 넘겨주고 그 결과를 받는 기능이 필요함\n",
    "- 이와 같이 웹 서버가 사용자의 요청을 애플리케이션에 전달하고 애플리케이션의 처리 결과를 애플리케이션으로부터 되돌려받기 위한, 즉 웹 서버와 애플리케이션 간의 데이터를 주고받기 위한 규격을 CGI(Common Gateway Interface)\n",
    "- cgi 모듈: 요청에 포함된 파라미터를 처리하기 위한 FieldStorage 클래스 정의\n",
    "- cgitb 모듈: CGI 애플리케이션(스크립트)이 실행 중 에러가 발생하는 경우, 에러에 대한 상세 정보를 브라우저에 표시\n",
    "- WSGI 기술을 사용하여 CGI 처리를 함"
   ]
  },
  {
   "cell_type": "markdown",
   "metadata": {},
   "source": [
    "### 2.4.2 WSGI 개요\n",
    "\n",
    "- CGI 방식: 요청이 들어올 때마다 처리를 위한 프로세스를 생성하는 방식\n",
    "- 웹 애플리케이션을 작성하는 개발자에게 이러한 방식을 선택하고 연동 방식을 맞추라고 한다면, 웹 애플리케이션 개발이 너무 어려워짐\n",
    "- 그래서 웹 서버와 웹 애플리케이션 중간에서 이런 까다로운 처리를 해주는 것이 장고와 같은 웹 프레임워크\n",
    "- 웹 애플리케이션을 한 번만 작성하면 다양한 웹 서버에서 동작\n",
    "- 즉, 웹 서버에 독립적인 웹 애플리케이션을 작성할 수 있도록 웹 서버와 웹 애플리케이션 간에 연동규격을 정의한 것이 WSGI 규격"
   ]
  },
  {
   "cell_type": "markdown",
   "metadata": {},
   "source": [
    "### 2.4.3 WSGI 서버의 애플리케이션 처리 과정\n",
    "\n",
    "- WSGI 규격을 준수하는 WSGI 서버에서 실행되는 애플리케이션을 작성하는 것은 편리한 점이 많음\n",
    "- 대부분의 파이썬 웹 프레임워크는 WSGI 서버를 제공하며, 애플리케이션 개발자는 WSGI 서버에 대한 API 규격만 맞추면, 웹 서버와는 독립적으로 애플리케이션을 작성할 수 있어 생산성이 높아짐"
   ]
  },
  {
   "cell_type": "markdown",
   "metadata": {},
   "source": [
    "### WSGI 규격에 따라 애플리케이션을 개발할 때 중요한 사항 3가지\n",
    "\n",
    "1. 개발이 필요한 애플리케이션을 함수 또는 클래스의 메소드로 정의하고, 애플리케이션 함수의 인자는 다음과 같이 정의\n",
    "```python\n",
    "def application_name(environ, start_response):\n",
    "```\n",
    "\n",
    "  - environ: 웹 프레임워크에 이미 정의되어 있으며, HTTP_HOST, HTTP_USER_AGENT, SERVER_PROTOCOL과 같은 HTTP 환경변수를 포함합니다\n",
    "  - start_response: 애플리케이션 내에서 응답을 시작하기 위해 반드시 호출해야 하는 함수입니다\n",
    "2. start_response 함수의 인자 역시 다음과 같이 정해져 있으므로 그대로 따릅니다.\n",
    "```python\n",
    "start_response(status, headers)\n",
    "```\n",
    "\n",
    "  - status: 응답 코드 및 응답 메세지를 지정합니다(200 OK, 404 Not Found 등)\n",
    "  - headers: 응답 헤더를 포함합니다.\n",
    "3. 애플리케이션 함수의 리턴값은 응답 바디에 해당하는 내용으로, 리스트나 제너레이터와 같은 iterable 타입이어야 합니다"
   ]
  },
  {
   "cell_type": "markdown",
   "metadata": {},
   "source": [
    "### 2.4.4 wsgiref.simple_server 모듈\n",
    "\n",
    "- 파이썬 표준 라이브러리에서는 웹 프레임워크 개발자가 웹 서버와의 연동 기능을 개발할 수 있도록 wsgiref 패키지의 하위 모듈로 wsgiref.simple_server 모듈을 제공하고 있음\n",
    "- 이 모듈은 WSGI 스펙을 준수하는 웹 서버(일명, WSGI 서버)에 대한 참조(referecen) 서버, 즉 개발자에게 참고가 될 수 있도록 미리 만들어 놓은 WSGIServer 클래스와 WSGIRequestHandler 클래스를 정의하고 있습니다.\n",
    "- 다만 모든 웹 프레임워크가 wsgiref 패키지를 사용하는 것은 아님\n",
    "- wsgiref 패키지를 사용하지 않더라도, WSGI 스펙을 준수하는 자신만의 웹 프레임워크 또는 WSGI 서버를 만들면 되기 때문\n",
    "- Flask 웹 프레임워크에서 사용하는 werkzeug WSGI 서버가 한 예로, wsgiref 패키지를 사용하지 않는 WSGI 웹 서버입니다."
   ]
  },
  {
   "cell_type": "markdown",
   "metadata": {},
   "source": [
    "### 예제 2-16 WSGI 서버"
   ]
  },
  {
   "cell_type": "code",
   "execution_count": null,
   "metadata": {
    "collapsed": false
   },
   "outputs": [],
   "source": [
    "def my_app(environ, start_response):\n",
    "    status = '200 OK'\n",
    "    headers = [('Content-Type', 'text/plain')]\n",
    "    start_response(status, headers)\n",
    "    \n",
    "    return ['This is a sample WSGI Application.']\n",
    "\n",
    "if __name__ == '__main__':\n",
    "    from wsgiref.simple_server import make_server\n",
    "    \n",
    "    print 'Started WSGI Server on port 8001...'\n",
    "    server = make_server('', 8001, my_app)\n",
    "    server.serve_forever()"
   ]
  },
  {
   "cell_type": "markdown",
   "metadata": {},
   "source": [
    "### WSGI 서버를 만들 때 중요한 사항\n",
    "\n",
    "- wsgiref.simple_server 모듈은 WSGI 규격을 준수하여 WSGI 서버를 작성할 수 있도록 API를 제공하고 있으며, make_server() 및 serve_forever() 메소드가 그런 API의 일부\n",
    "- my_app()과 같은 애플리케이션 로직을 호출 가능한(callable) 함수나 메소드로 정의하여, 이 함수를 make_server() 인자로 넘겨주어 WSGI 웹 서버를 만듭니다. 이는 애플리케이션 프로그램과 웹 서버 프로그램을 독립적으로 작성할 수 있게 해주는 WSGI 규격의 중요한 원칙에 해당함\n",
    "- my_app() 함수가 WSGI 규격을 준수하는 애플리케이션 코드. 이 애플리케이션 함수에서 응답을 위한 헤더 및 바디를 구성해서 반환해줌. 헤더 및 바디를 구성하는 방법은 앞 절의 설명을 참고하기 바람"
   ]
  },
  {
   "cell_type": "markdown",
   "metadata": {},
   "source": [
    "- WSGI 서버도 웹 서버이므로 WSGI 서버를 만드는 방식도 **2.3.1 간단한 웹 서버**에서 설명한 웹 서버를 만드는 방식을 그대로 따르고 있음\n",
    "- 즉, 서버의 IP 및 PORT, 그리고 핸들러 클래스를 정의한 후에 이들을 인자로 하여 HTTPServer 객체를 생성합니다. 그런 다음 HTTPServer 객체의 serve_forever() 메소드를 호출하는 방식\n",
    "- 다만 예제에서 만든 WSGI 서버에서 다른 점은 핸들러 클래스가 아니라 애플리케이션 로직을 작성하는 함수를 사용한다는 점과 애플리케이션 함수를 작성하는 방법입니다. 또한, 다음 그림처럼 HTTPServer 객체를 상속받은 WSGIServer 객체를 생성하여 serve_forever() 메소드를 호출한다는 점도 다릅니다. 물론 핸들러 클래스인 WSGIRequestHandler를 사용하여 WSGI 서버를 만들 수도 있습니다."
   ]
  }
 ],
 "metadata": {
  "kernelspec": {
   "display_name": "Python 2",
   "language": "python",
   "name": "python2"
  },
  "language_info": {
   "codemirror_mode": {
    "name": "ipython",
    "version": 2
   },
   "file_extension": ".py",
   "mimetype": "text/x-python",
   "name": "python",
   "nbconvert_exporter": "python",
   "pygments_lexer": "ipython2",
   "version": "2.7.6"
  }
 },
 "nbformat": 4,
 "nbformat_minor": 0
}
