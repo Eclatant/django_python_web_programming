{
 "cells": [
  {
   "cell_type": "markdown",
   "metadata": {},
   "source": [
    "# ch04 Django의 핵심 기능"
   ]
  },
  {
   "cell_type": "code",
   "execution_count": 6,
   "metadata": {
    "collapsed": false
   },
   "outputs": [
    {
     "name": "stdout",
     "output_type": "stream",
     "text": [
      "total 176\r\n",
      "-rw-r--r--   1 re4lfl0w  staff  41364  4 16 00:34 ch02.ipynb\r\n",
      "-rw-r--r--   1 re4lfl0w  staff  40279  4 16 05:04 ch03.ipynb\r\n",
      "-rw-r--r--   1 re4lfl0w  staff    626  4 16 05:06 ch04.ipynb\r\n",
      "drwxr-xr-x   3 re4lfl0w  staff    102  4 15 23:33 \u001b[34mch1\u001b[m\u001b[m/\r\n",
      "drwxr-xr-x   9 re4lfl0w  staff    306  4 15 23:33 \u001b[34mch2\u001b[m\u001b[m/\r\n",
      "drwxr-xr-x  10 re4lfl0w  staff    340  4 16 05:57 \u001b[34mch3\u001b[m\u001b[m/\r\n",
      "drwxr-xr-x   7 re4lfl0w  staff    238  4 15 23:33 \u001b[34mch3-4\u001b[m\u001b[m/\r\n",
      "drwxr-xr-x   7 re4lfl0w  staff    238  4 15 23:33 \u001b[34mch3-6\u001b[m\u001b[m/\r\n",
      "drwxr-xr-x   7 re4lfl0w  staff    238  4 15 23:33 \u001b[34mch3-7\u001b[m\u001b[m/\r\n",
      "drwxr-xr-x   7 re4lfl0w  staff    238  4 15 23:33 \u001b[34mch4\u001b[m\u001b[m/\r\n",
      "drwxr-xr-x   9 re4lfl0w  staff    306  4 15 23:33 \u001b[34mch5-1\u001b[m\u001b[m/\r\n",
      "drwxr-xr-x   9 re4lfl0w  staff    306  4 15 23:33 \u001b[34mch5-2\u001b[m\u001b[m/\r\n",
      "drwxr-xr-x  10 re4lfl0w  staff    340  4 15 23:33 \u001b[34mch5-3\u001b[m\u001b[m/\r\n",
      "drwxr-xr-x  12 re4lfl0w  staff    408  4 15 23:33 \u001b[34mch6-4\u001b[m\u001b[m/\r\n",
      "drwxr-xr-x  12 re4lfl0w  staff    408  4 15 23:33 \u001b[34mch6-5\u001b[m\u001b[m/\r\n"
     ]
    }
   ],
   "source": [
    "%ll"
   ]
  },
  {
   "cell_type": "code",
   "execution_count": 7,
   "metadata": {
    "collapsed": false
   },
   "outputs": [
    {
     "name": "stdout",
     "output_type": "stream",
     "text": [
      "/Users/re4lfl0w/Documents/ipython/books/django_python_web_programming/ch3\n"
     ]
    }
   ],
   "source": [
    "%cd ch3"
   ]
  },
  {
   "cell_type": "code",
   "execution_count": 9,
   "metadata": {
    "collapsed": false
   },
   "outputs": [
    {
     "name": "stdout",
     "output_type": "stream",
     "text": [
      "total 288\r\n",
      "-rw-r--r--   1 re4lfl0w  staff  143360  4 16 05:48 db.sqlite3\r\n",
      "-rwxr-xr-x   1 re4lfl0w  staff     249  4 16 01:19 \u001b[31mmanage.py\u001b[m\u001b[m*\r\n",
      "drwxr-xr-x  10 re4lfl0w  staff     340  4 16 06:12 \u001b[34mmysite\u001b[m\u001b[m/\r\n",
      "drwxr-xr-x  14 re4lfl0w  staff     476  4 16 05:55 \u001b[34mpolls\u001b[m\u001b[m/\r\n",
      "drwxr-xr-x   3 re4lfl0w  staff     102  4 16 05:57 \u001b[34mtemplates\u001b[m\u001b[m/\r\n"
     ]
    }
   ],
   "source": [
    "%ll"
   ]
  },
  {
   "cell_type": "code",
   "execution_count": null,
   "metadata": {
    "collapsed": true
   },
   "outputs": [],
   "source": []
  }
 ],
 "metadata": {
  "kernelspec": {
   "display_name": "Python 2",
   "language": "python",
   "name": "python2"
  },
  "language_info": {
   "codemirror_mode": {
    "name": "ipython",
    "version": 2
   },
   "file_extension": ".py",
   "mimetype": "text/x-python",
   "name": "python",
   "nbconvert_exporter": "python",
   "pygments_lexer": "ipython2",
   "version": "2.7.6"
  }
 },
 "nbformat": 4,
 "nbformat_minor": 0
}
